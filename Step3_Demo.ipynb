{
 "cells": [
  {
   "cell_type": "markdown",
   "metadata": {
    "id": "hXLpYyTU74Xy"
   },
   "source": [
    "**Part 3: Demo**\n",
    "1.  Use the train 3D-CNN model to detect deception"
   ]
  },
  {
   "cell_type": "markdown",
   "metadata": {
    "id": "ACX1aGWbcZtb"
   },
   "source": [
    "# Load modules and packages"
   ]
  },
  {
   "cell_type": "code",
   "execution_count": 1,
   "metadata": {
    "executionInfo": {
     "elapsed": 2175,
     "status": "ok",
     "timestamp": 1684680123819,
     "user": {
      "displayName": "頼欣妤",
      "userId": "06351431626836711084"
     },
     "user_tz": -540
    },
    "id": "DzZoY7foq-yN"
   },
   "outputs": [],
   "source": [
    "import cv2\n",
    "from skimage.color import rgb2gray\n",
    "from skimage.transform import resize\n",
    "import matplotlib.pyplot as plt\n",
    "import math\n",
    "import os\n",
    "import numpy as np"
   ]
  },
  {
   "cell_type": "code",
   "execution_count": 2,
   "metadata": {
    "executionInfo": {
     "elapsed": 5053,
     "status": "ok",
     "timestamp": 1684680128870,
     "user": {
      "displayName": "頼欣妤",
      "userId": "06351431626836711084"
     },
     "user_tz": -540
    },
    "id": "dlUzLaZ7Wzef"
   },
   "outputs": [],
   "source": [
    "from keras.models import Sequential\n",
    "from keras.layers import Conv3D, Activation, Dense, Dropout, Flatten, MaxPooling3D\n",
    "import pandas as pd\n",
    "# import dlib\n",
    "from keras.losses import binary_crossentropy,categorical_crossentropy\n",
    "from keras.optimizers import Adam, RMSprop\n",
    "from keras.callbacks import EarlyStopping\n",
    "from sklearn import preprocessing\n",
    "from sklearn.model_selection import train_test_split, StratifiedKFold\n",
    "# import tensorflow_datasets as tfds\n",
    "import tensorflow as tf\n",
    "from pathlib import Path\n",
    "import tensorflow.keras.backend as K\n",
    "import argparse"
   ]
  },
  {
   "cell_type": "markdown",
   "metadata": {
    "id": "oNk6DKCRcJJ2"
   },
   "source": [
    "#Load 3D-CNN Model"
   ]
  },
  {
   "cell_type": "code",
   "execution_count": 3,
   "metadata": {
    "colab": {
     "base_uri": "https://localhost:8080/"
    },
    "executionInfo": {
     "elapsed": 5191,
     "status": "ok",
     "timestamp": 1684680134055,
     "user": {
      "displayName": "頼欣妤",
      "userId": "06351431626836711084"
     },
     "user_tz": -540
    },
    "id": "leHJzL2_dGas",
    "outputId": "ae216a84-41b4-4405-cad7-9a041ca34981"
   },
   "outputs": [
    {
     "name": "stdout",
     "output_type": "stream",
     "text": [
      "Model: \"sequential\"\n",
      "_________________________________________________________________\n",
      " Layer (type)                Output Shape              Param #   \n",
      "=================================================================\n",
      " conv3d (Conv3D)             (None, 9, 127, 127, 16)   144       \n",
      "                                                                 \n",
      " conv3d_1 (Conv3D)           (None, 8, 126, 126, 32)   4128      \n",
      "                                                                 \n",
      " max_pooling3d (MaxPooling3  (None, 8, 63, 63, 32)     0         \n",
      " D)                                                              \n",
      "                                                                 \n",
      " conv3d_2 (Conv3D)           (None, 7, 62, 62, 64)     16448     \n",
      "                                                                 \n",
      " max_pooling3d_1 (MaxPoolin  (None, 3, 31, 31, 64)     0         \n",
      " g3D)                                                            \n",
      "                                                                 \n",
      " conv3d_3 (Conv3D)           (None, 2, 30, 30, 64)     32832     \n",
      "                                                                 \n",
      " max_pooling3d_2 (MaxPoolin  (None, 2, 15, 15, 64)     0         \n",
      " g3D)                                                            \n",
      "                                                                 \n",
      " flatten (Flatten)           (None, 28800)             0         \n",
      "                                                                 \n",
      " dense (Dense)               (None, 5000)              144005000 \n",
      "                                                                 \n",
      " dropout (Dropout)           (None, 5000)              0         \n",
      "                                                                 \n",
      " dense_1 (Dense)             (None, 500)               2500500   \n",
      "                                                                 \n",
      " dense_2 (Dense)             (None, 1)                 501       \n",
      "                                                                 \n",
      "=================================================================\n",
      "Total params: 146559553 (559.08 MB)\n",
      "Trainable params: 146559553 (559.08 MB)\n",
      "Non-trainable params: 0 (0.00 Byte)\n",
      "_________________________________________________________________\n"
     ]
    }
   ],
   "source": [
    "model = Sequential()\n",
    "model.add(Conv3D(16, kernel_size=(2,2,2), input_shape=(10,128,128,1)))\n",
    "model.add(Conv3D(32, kernel_size=(2,2,2)))\n",
    "model.add(MaxPooling3D(pool_size=(1,2,2)))\n",
    "\n",
    "model.add(Conv3D(64, kernel_size=(2,2,2)))\n",
    "model.add(MaxPooling3D(pool_size=(2,2,2)))\n",
    "\n",
    "model.add(Conv3D(64, kernel_size=(2,2,2)))\n",
    "model.add(MaxPooling3D(pool_size=(1,2,2)))\n",
    "\n",
    "model.add(Flatten())\n",
    "\n",
    "model.add(Dense(5000))\n",
    "model.add(Dropout(0.2))\n",
    "model.add(Dense(500,activation='relu'))\n",
    "model.add(Dense(1, activation='sigmoid'))\n",
    "\n",
    "model.summary()"
   ]
  },
  {
   "cell_type": "code",
   "execution_count": 4,
   "metadata": {
    "executionInfo": {
     "elapsed": 8561,
     "status": "ok",
     "timestamp": 1684680143324,
     "user": {
      "displayName": "頼欣妤",
      "userId": "06351431626836711084"
     },
     "user_tz": -540
    },
    "id": "T-ZXzE-dd4Ti"
   },
   "outputs": [],
   "source": [
    "model.load_weights(\"modelWeight.h5\")"
   ]
  },
  {
   "cell_type": "markdown",
   "metadata": {
    "id": "3G45rm1oaYNl"
   },
   "source": [
    "# Video to Frames"
   ]
  },
  {
   "cell_type": "code",
   "execution_count": 5,
   "metadata": {
    "executionInfo": {
     "elapsed": 419,
     "status": "ok",
     "timestamp": 1684680227665,
     "user": {
      "displayName": "頼欣妤",
      "userId": "06351431626836711084"
     },
     "user_tz": -540
    },
    "id": "_IkfNfSJrBpI"
   },
   "outputs": [],
   "source": [
    "filename = \"test\""
   ]
  },
  {
   "cell_type": "code",
   "execution_count": 6,
   "metadata": {
    "colab": {
     "base_uri": "https://localhost:8080/"
    },
    "executionInfo": {
     "elapsed": 5697,
     "status": "ok",
     "timestamp": 1684680235312,
     "user": {
      "displayName": "頼欣妤",
      "userId": "06351431626836711084"
     },
     "user_tz": -540
    },
    "id": "yY4MBJohzk84",
    "outputId": "28ad4d67-809d-453e-f081-5d2d2f1738fd"
   },
   "outputs": [
    {
     "name": "stdout",
     "output_type": "stream",
     "text": [
      "test\n",
      "169 / 15\n",
      "**********"
     ]
    }
   ],
   "source": [
    "count = 1\n",
    "success = True\n",
    "\n",
    "print(filename)\n",
    "video_path = os.path.join(\"%s%s\" % (filename,\".mp4\"))\n",
    "FRAMES_PATH = os.path.join(\"%s_%s\" % (filename,\"frames\"))\n",
    "if not os.path.isdir(FRAMES_PATH):\n",
    "  os.makedirs(FRAMES_PATH)\n",
    "vidcap = cv2.VideoCapture(video_path)\n",
    "total_frame = int(vidcap.get(cv2.CAP_PROP_FRAME_COUNT))\n",
    "one_frame_each = total_frame//11\n",
    "print(total_frame,\"/\",one_frame_each)\n",
    "frame_num = 0\n",
    "success,image = vidcap.read()\n",
    "while frame_num <= 9:\n",
    "  if (count%one_frame_each == 0):                       # checks frame number and keeps one_frame_each              \n",
    "    image_gray = rgb2gray(image)                                  # grayscale image\n",
    "    plt.imsave(\"%s/%s_%d.png\" % (FRAMES_PATH,filename,frame_num), image_gray, cmap= plt.cm.gray) # saves images to frame folder\n",
    "    frame_num += 1\n",
    "    print ('*', end=\"\")\n",
    "    success,image = vidcap.read()\n",
    "  else:\n",
    "    pre_image = image\n",
    "    success,image = vidcap.read()                                 # reads next frame\n",
    "  count += 1                                                        # loops counter"
   ]
  },
  {
   "cell_type": "markdown",
   "metadata": {
    "id": "aCTeliKtaicL"
   },
   "source": [
    "# Prediction"
   ]
  },
  {
   "cell_type": "code",
   "execution_count": 7,
   "metadata": {
    "colab": {
     "base_uri": "https://localhost:8080/"
    },
    "executionInfo": {
     "elapsed": 857,
     "status": "ok",
     "timestamp": 1684680242850,
     "user": {
      "displayName": "頼欣妤",
      "userId": "06351431626836711084"
     },
     "user_tz": -540
    },
    "id": "Lkq90yxEYGzq",
    "outputId": "a7e8cbfb-e9a9-4a50-b214-dc53ac561a05"
   },
   "outputs": [
    {
     "name": "stdout",
     "output_type": "stream",
     "text": [
      "10\n"
     ]
    }
   ],
   "source": [
    "frames = os.listdir(FRAMES_PATH)\n",
    "frames.sort()\n",
    "print(len(frames))"
   ]
  },
  {
   "cell_type": "code",
   "execution_count": 8,
   "metadata": {
    "colab": {
     "base_uri": "https://localhost:8080/",
     "height": 1000
    },
    "executionInfo": {
     "elapsed": 1905,
     "status": "ok",
     "timestamp": 1684680245200,
     "user": {
      "displayName": "頼欣妤",
      "userId": "06351431626836711084"
     },
     "user_tz": -540
    },
    "id": "KU9IoZYPYhyM",
    "outputId": "70cf85df-7e9b-46de-b9de-5be89a7537cc"
   },
   "outputs": [
    {
     "name": "stdout",
     "output_type": "stream",
     "text": [
      "test_0.png\n",
      "test_1.png\n",
      "test_2.png\n",
      "test_3.png\n",
      "test_4.png\n",
      "test_5.png\n",
      "test_6.png\n",
      "test_7.png\n",
      "test_8.png\n",
      "test_9.png\n",
      "(1, 10, 128, 128, 1)\n"
     ]
    }
   ],
   "source": [
    "data = []\n",
    "\n",
    "face_cascade = cv2.CascadeClassifier(cv2.data.haarcascades + \"haarcascade_frontalface_default.xml\")\n",
    "\n",
    "for filename in frames:\n",
    "\n",
    "  video_path = os.path.join(FRAMES_PATH,filename)\n",
    "  video = cv2.imread(video_path,cv2.IMREAD_GRAYSCALE)\n",
    "  face = face_cascade.detectMultiScale(\n",
    "      video,\n",
    "      scaleFactor=1.08,\n",
    "      minNeighbors=2,\n",
    "      minSize=(48, 48)\n",
    "  )\n",
    "\n",
    "  print(filename)\n",
    "  max_area=0\n",
    "  area=0\n",
    "  img = video\n",
    "\n",
    "  for (x,y,w,h) in face:\n",
    "      area=h*w\n",
    "      if area>max_area:\n",
    "          max_area=area\n",
    "          img=video[y:y+h, x:x+w]\n",
    "      \n",
    "  img = cv2.resize(img,(128,128))\n",
    "  img = preprocessing.scale(img)\n",
    "  img = np.expand_dims(img, axis=2)\n",
    "  img = img.astype(np.float32)\n",
    "  \n",
    "  data.append(img)\n",
    "\n",
    "data = np.asarray(data).astype(np.float32)\n",
    "data = np.expand_dims(data, axis=0)\n",
    "print(data.shape)"
   ]
  },
  {
   "cell_type": "code",
   "execution_count": 9,
   "metadata": {
    "colab": {
     "base_uri": "https://localhost:8080/"
    },
    "executionInfo": {
     "elapsed": 596,
     "status": "ok",
     "timestamp": 1684680245791,
     "user": {
      "displayName": "頼欣妤",
      "userId": "06351431626836711084"
     },
     "user_tz": -540
    },
    "id": "F2SXeXAAeQCf",
    "outputId": "843b2f3d-7181-48f5-daa8-bdf8ed953593"
   },
   "outputs": [
    {
     "name": "stdout",
     "output_type": "stream",
     "text": [
      "1/1 [==============================] - 0s 105ms/step\n",
      "Lie\n"
     ]
    }
   ],
   "source": [
    "pred = model.predict(data,batch_size=1)\n",
    "if pred >= 0.5:\n",
    "  print(\"Truth\")\n",
    "else:\n",
    "  print(\"Lie\")"
   ]
  },
  {
   "cell_type": "code",
   "execution_count": null,
   "metadata": {},
   "outputs": [],
   "source": []
  }
 ],
 "metadata": {
  "colab": {
   "collapsed_sections": [
    "ACX1aGWbcZtb"
   ],
   "provenance": []
  },
  "kernelspec": {
   "display_name": "Python 3 (ipykernel)",
   "language": "python",
   "name": "python3"
  },
  "language_info": {
   "codemirror_mode": {
    "name": "ipython",
    "version": 3
   },
   "file_extension": ".py",
   "mimetype": "text/x-python",
   "name": "python",
   "nbconvert_exporter": "python",
   "pygments_lexer": "ipython3",
   "version": "3.11.4"
  }
 },
 "nbformat": 4,
 "nbformat_minor": 1
}
